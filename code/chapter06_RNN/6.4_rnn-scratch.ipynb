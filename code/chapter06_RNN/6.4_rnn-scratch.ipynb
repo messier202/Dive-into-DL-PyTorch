{
 "cells": [
  {
   "cell_type": "code",
   "execution_count": 2,
   "metadata": {},
   "outputs": [
    {
     "output_type": "stream",
     "name": "stdout",
     "text": "1.5.0\ncuda\n"
    }
   ],
   "source": [
    "import time\n",
    "import math\n",
    "import numpy as np\n",
    "import torch\n",
    "from torch import nn, optim\n",
    "import torch.nn.functional as F\n",
    "\n",
    "import sys\n",
    "sys.path.append(\"..\") \n",
    "import d2lzh_pytorch as d2l\n",
    "device = torch.device('cuda' if torch.cuda.is_available() else 'cpu')\n",
    "\n",
    "print(torch.__version__)\n",
    "print(device)"
   ]
  },
  {
   "cell_type": "code",
   "execution_count": 3,
   "metadata": {},
   "outputs": [],
   "source": [
    "(corpus_indices, char_to_idx, idx_to_char, vocab_size) = d2l.load_data_jay_lyrics()"
   ]
  },
  {
   "cell_type": "code",
   "execution_count": 4,
   "metadata": {},
   "outputs": [
    {
     "output_type": "execute_result",
     "data": {
      "text/plain": "['想', '要', '有', '直', '升', '机', ' ', '想', '要', '和']"
     },
     "metadata": {},
     "execution_count": 4
    }
   ],
   "source": [
    "[idx_to_char[ id] for id in corpus_indices[0:10]]"
   ]
  },
  {
   "cell_type": "markdown",
   "metadata": {},
   "source": [
    "## 6.4.1 one-hot向量"
   ]
  },
  {
   "cell_type": "code",
   "execution_count": 5,
   "metadata": {},
   "outputs": [
    {
     "output_type": "execute_result",
     "data": {
      "text/plain": "tensor([[1., 0., 0.,  ..., 0., 0., 0.],\n        [0., 0., 1.,  ..., 0., 0., 0.]])"
     },
     "metadata": {},
     "execution_count": 5
    }
   ],
   "source": [
    "def one_hot(x, n_class, dtype=torch.float32): \n",
    "    # X shape: (batch), output shape: (batch, n_class)\n",
    "    x = x.long()\n",
    "    res = torch.zeros(x.shape[0], n_class, dtype=dtype, device=x.device)\n",
    "    res.scatter_(1, x.view(-1, 1), 1) # scatter_(dim, index, src)\n",
    "    return res\n",
    "    \n",
    "x = torch.tensor([0, 2])\n",
    "one_hot(x, vocab_size)"
   ]
  },
  {
   "cell_type": "code",
   "execution_count": 6,
   "metadata": {},
   "outputs": [
    {
     "output_type": "execute_result",
     "data": {
      "text/plain": "tensor([[0],\n        [2]])"
     },
     "metadata": {},
     "execution_count": 6
    }
   ],
   "source": [
    "x = torch.tensor([0, 2])\n",
    "x = x.long()\n",
    "x.view(-1, 1)"
   ]
  },
  {
   "cell_type": "code",
   "execution_count": 7,
   "metadata": {},
   "outputs": [
    {
     "output_type": "stream",
     "name": "stdout",
     "text": "5 torch.Size([2, 1027])\ntensor([[0., 1., 0., 0., 0., 0., 0., 0., 0., 0.],\n        [0., 0., 0., 0., 0., 0., 1., 0., 0., 0.]])\ntensor([[0, 1, 2, 3, 4],\n        [5, 6, 7, 8, 9]])\n"
    }
   ],
   "source": [
    "# 本函数已保存在d2lzh_pytorch包中方便以后使用\n",
    "def to_onehot(X, n_class):  \n",
    "    # X shape: (batch, seq_len), output: seq_len elements of (batch, n_class)\n",
    "    return [one_hot(X[:, i], n_class) for i in range(X.shape[1])]\n",
    "\n",
    "X = torch.arange(10).view(2, 5)\n",
    "inputs = to_onehot(X, vocab_size)\n",
    "print(len(inputs), inputs[0].shape)\n",
    "print(inputs[1][:,0:10])\n",
    "print(X)"
   ]
  },
  {
   "cell_type": "markdown",
   "metadata": {},
   "source": [
    "## 6.4.2 初始化模型参数"
   ]
  },
  {
   "cell_type": "code",
   "execution_count": 8,
   "metadata": {},
   "outputs": [
    {
     "output_type": "stream",
     "name": "stdout",
     "text": "will use cuda\n"
    }
   ],
   "source": [
    "num_inputs, num_hiddens, num_outputs = vocab_size, 256, vocab_size\n",
    "print('will use', device)\n",
    "\n",
    "def get_params():\n",
    "    def _one(shape):\n",
    "        ts = torch.tensor(np.random.normal(0, 0.01, size=shape), device=device, dtype=torch.float32)\n",
    "        return torch.nn.Parameter(ts, requires_grad=True)\n",
    "\n",
    "    # 隐藏层参数\n",
    "    W_xh = _one((num_inputs, num_hiddens))\n",
    "    W_hh = _one((num_hiddens, num_hiddens))\n",
    "    b_h = torch.nn.Parameter(torch.zeros(num_hiddens, device=device, requires_grad=True))\n",
    "    # 输出层参数\n",
    "    W_hq = _one((num_hiddens, num_outputs))\n",
    "    b_q = torch.nn.Parameter(torch.zeros(num_outputs, device=device, requires_grad=True))\n",
    "    return nn.ParameterList([W_xh, W_hh, b_h, W_hq, b_q])"
   ]
  },
  {
   "cell_type": "markdown",
   "metadata": {},
   "source": [
    "## 6.4.3 定义模型"
   ]
  },
  {
   "cell_type": "code",
   "execution_count": 9,
   "metadata": {},
   "outputs": [],
   "source": [
    "def init_rnn_state(batch_size, num_hiddens, device):\n",
    "    return (torch.zeros((batch_size, num_hiddens), device=device), )"
   ]
  },
  {
   "cell_type": "code",
   "execution_count": 10,
   "metadata": {
    "collapsed": true
   },
   "outputs": [],
   "source": [
    "def rnn(inputs, state, params):\n",
    "    # inputs和outputs皆为num_steps个形状为(batch_size, vocab_size)的矩阵\n",
    "    W_xh, W_hh, b_h, W_hq, b_q = params\n",
    "    H, = state\n",
    "    outputs = []\n",
    "    for X in inputs:\n",
    "        H = torch.tanh(torch.matmul(X, W_xh) + torch.matmul(H, W_hh) + b_h)\n",
    "        Y = torch.matmul(H, W_hq) + b_q\n",
    "        outputs.append(Y)\n",
    "    return outputs, (H,)"
   ]
  },
  {
   "cell_type": "code",
   "execution_count": 11,
   "metadata": {},
   "outputs": [
    {
     "output_type": "stream",
     "name": "stdout",
     "text": "5 torch.Size([2, 1027]) torch.Size([2, 256])\n"
    }
   ],
   "source": [
    "state = init_rnn_state(X.shape[0], num_hiddens, device)\n",
    "inputs = to_onehot(X.to(device), vocab_size)\n",
    "params = get_params()\n",
    "outputs, state_new = rnn(inputs, state, params)\n",
    "print(len(outputs), outputs[0].shape, state_new[0].shape)"
   ]
  },
  {
   "cell_type": "markdown",
   "metadata": {},
   "source": [
    "## 6.4.4 定义预测函数"
   ]
  },
  {
   "cell_type": "code",
   "execution_count": 12,
   "metadata": {
    "collapsed": true
   },
   "outputs": [],
   "source": [
    "# 本函数已保存在d2lzh_pytorch包中方便以后使用\n",
    "def predict_rnn(prefix, num_chars, rnn, params, init_rnn_state,\n",
    "                num_hiddens, vocab_size, device, idx_to_char, char_to_idx):\n",
    "    state = init_rnn_state(1, num_hiddens, device)\n",
    "    output = [char_to_idx[prefix[0]]]\n",
    "    for t in range(num_chars + len(prefix) - 1):\n",
    "        # 将上一时间步的输出作为当前时间步的输入\n",
    "        X = to_onehot(torch.tensor([[output[-1]]], device=device), vocab_size)\n",
    "        # 计算输出和更新隐藏状态\n",
    "        (Y, state) = rnn(X, state, params)\n",
    "        # 下一个时间步的输入是prefix里的字符或者当前的最佳预测字符\n",
    "        if t < len(prefix) - 1:\n",
    "            output.append(char_to_idx[prefix[t + 1]])\n",
    "        else:\n",
    "            output.append(int(Y[0].argmax(dim=1).item()))\n",
    "    return ''.join([idx_to_char[i] for i in output])"
   ]
  },
  {
   "cell_type": "code",
   "execution_count": 14,
   "metadata": {},
   "outputs": [
    {
     "output_type": "execute_result",
     "data": {
      "text/plain": "'天晴装欣骷躲将片头铅酋不'"
     },
     "metadata": {},
     "execution_count": 14
    }
   ],
   "source": [
    "predict_rnn('天晴', 10, rnn, params, init_rnn_state, num_hiddens, vocab_size,\n",
    "            device, idx_to_char, char_to_idx)"
   ]
  },
  {
   "cell_type": "markdown",
   "metadata": {},
   "source": [
    "## 6.4.5 裁剪梯度"
   ]
  },
  {
   "cell_type": "code",
   "execution_count": 15,
   "metadata": {
    "collapsed": true
   },
   "outputs": [],
   "source": [
    "# 本函数已保存在d2lzh_pytorch包中方便以后使用\n",
    "def grad_clipping(params, theta, device):\n",
    "    norm = torch.tensor([0.0], device=device)\n",
    "    for param in params:\n",
    "        norm += (param.grad.data ** 2).sum()\n",
    "    norm = norm.sqrt().item()\n",
    "    if norm > theta:\n",
    "        for param in params:\n",
    "            param.grad.data *= (theta / norm)"
   ]
  },
  {
   "cell_type": "markdown",
   "metadata": {},
   "source": [
    "## 6.4.6 困惑度\n",
    "## 6.4.7 定义模型训练函数"
   ]
  },
  {
   "cell_type": "code",
   "execution_count": 16,
   "metadata": {
    "collapsed": true
   },
   "outputs": [],
   "source": [
    "# 本函数已保存在d2lzh_pytorch包中方便以后使用\n",
    "def train_and_predict_rnn(rnn, get_params, init_rnn_state, num_hiddens,\n",
    "                          vocab_size, device, corpus_indices, idx_to_char,\n",
    "                          char_to_idx, is_random_iter, num_epochs, num_steps,\n",
    "                          lr, clipping_theta, batch_size, pred_period,\n",
    "                          pred_len, prefixes):\n",
    "    if is_random_iter:\n",
    "        data_iter_fn = d2l.data_iter_random\n",
    "    else:\n",
    "        data_iter_fn = d2l.data_iter_consecutive\n",
    "    params = get_params()\n",
    "    loss = nn.CrossEntropyLoss()\n",
    "\n",
    "    for epoch in range(num_epochs):\n",
    "        if not is_random_iter:  # 如使用相邻采样，在epoch开始时初始化隐藏状态\n",
    "            state = init_rnn_state(batch_size, num_hiddens, device)\n",
    "        l_sum, n, start = 0.0, 0, time.time()\n",
    "        data_iter = data_iter_fn(corpus_indices, batch_size, num_steps, device)\n",
    "        for X, Y in data_iter:\n",
    "            if is_random_iter:  # 如使用随机采样，在每个小批量更新前初始化隐藏状态\n",
    "                state = init_rnn_state(batch_size, num_hiddens, device)\n",
    "            else:  # 否则需要使用detach函数从计算图分离隐藏状态\n",
    "                for s in state:\n",
    "                    s.detach_()\n",
    "            \n",
    "            inputs = to_onehot(X, vocab_size)\n",
    "            # outputs有num_steps个形状为(batch_size, vocab_size)的矩阵\n",
    "            (outputs, state) = rnn(inputs, state, params)\n",
    "            # 拼接之后形状为(num_steps * batch_size, vocab_size)\n",
    "            outputs = torch.cat(outputs, dim=0)\n",
    "            # Y的形状是(batch_size, num_steps)，转置后再变成长度为\n",
    "            # batch * num_steps 的向量，这样跟输出的行一一对应\n",
    "            y = torch.transpose(Y, 0, 1).contiguous().view(-1)\n",
    "            # 使用交叉熵损失计算平均分类误差\n",
    "            l = loss(outputs, y.long())\n",
    "            \n",
    "            # 梯度清0\n",
    "            if params[0].grad is not None:\n",
    "                for param in params:\n",
    "                    param.grad.data.zero_()\n",
    "            l.backward()\n",
    "            grad_clipping(params, clipping_theta, device)  # 裁剪梯度\n",
    "            d2l.sgd(params, lr, 1)  # 因为误差已经取过均值，梯度不用再做平均\n",
    "            l_sum += l.item() * y.shape[0]\n",
    "            n += y.shape[0]\n",
    "\n",
    "        if (epoch + 1) % pred_period == 0:\n",
    "            print('epoch %d, perplexity %f, time %.2f sec' % (\n",
    "                epoch + 1, math.exp(l_sum / n), time.time() - start))\n",
    "            for prefix in prefixes:\n",
    "                print(' -', predict_rnn(prefix, pred_len, rnn, params, init_rnn_state,\n",
    "                    num_hiddens, vocab_size, device, idx_to_char, char_to_idx))"
   ]
  },
  {
   "cell_type": "markdown",
   "metadata": {},
   "source": [
    "## 6.4.8 训练模型并创作歌词"
   ]
  },
  {
   "cell_type": "code",
   "execution_count": 19,
   "metadata": {
    "collapsed": true
   },
   "outputs": [],
   "source": [
    "num_epochs, num_steps, batch_size, lr, clipping_theta = 2500, 35, 32, 1e2, 1e-2\n",
    "pred_period, pred_len, prefixes = 50, 50, ['分开', '不分开']"
   ]
  },
  {
   "cell_type": "code",
   "execution_count": 20,
   "metadata": {},
   "outputs": [
    {
     "output_type": "stream",
     "name": "stdout",
     "text": "epoch 50, perplexity 71.266550, time 0.09 sec\n - 分开 我不要再想 我不能再想 你不能 一颗两颗三颗四步  我想能你 你有了我 我有我不 你是我 别子我有\n - 不分开 快颗用 一颗两颗三颗四步  我想能你 你有我有 你是我 别子我有三你的让我 甩的可我 我有你你 你\nepoch 100, perplexity 10.346547, time 0.09 sec\n - 分开 一颗两步三步四颗 连成线背著背我妈妈 难说的手不着 哼哼哈兮 快使用双截棍 哼哼哈兮 快使用双截棍\n - 不分开吗 快使用双截棍 哼哼哈兮 快使用双截棍 哼哼哈兮 快使用双截棍 哼哼哈兮 快使用双截棍 哼哼哈兮 \nepoch 150, perplexity 2.832930, time 0.09 sec\n - 分开 一直会停 语我用练 习成风中 你在没在 你一定梦 一句不起 你不懂 连一句珍重 一切苦斗飞 有人什\n - 不分开吗 我不能再想 我不 我不 我不要再想你 不知不觉 你已经离开我 不知不觉 我跟了这节奏 后知后觉 \nepoch 200, perplexity 1.578092, time 0.09 sec\n - 分开 有蟑去人教 几钩都苦落 三为什么落 不爽都 岩给堂 装满都明信片的铁盒里藏著一片玫瑰花瓣 对金葛爬\n - 不分开期把的胖女巫 用拉丁文念咒语啦啦呜 她养的黑猫笑起来像哭 啦啦啦呜 一子我想见的我 一思风枪 目我将\nepoch 250, perplexity 1.310064, time 0.09 sec\n - 分开 一天心停留 它辛它苦抽 一朵一朵因你而香 试图让夕阳飞翔 带领你我环绕大自然 迎著风 开始共渡每一\n - 不分开吗 我叫你爸 你打我妈 这样对吗干嘛这样 何必让酒牵口子走 瞎 说在灌口 我该了你不个 但不会掩 如\nepoch 300, perplexity 1.218886, time 0.09 sec\n - 分开 有直在人蛛  辛上依旧不会 老天不起格永远 但来杂草的泥土 不会莹明武 会学坊 小弄堂 我打就这样\n - 不分开简 然后将过去 慢慢温习 让我爱上你 那场悲剧 是你完美演出的一场戏 宁愿心碎哭泣 再狠狠忘记 你爱\nepoch 350, perplexity 1.183997, time 0.08 sec\n - 分开 在三些老哭步 它哼哈兮 快你在双截棍 仁者无敌 如果我有轻功 飞檐走壁 为人耿直不屈 一身正气 快\n - 不分开期 然后将过去 慢慢温习 让我爱上你 那场悲剧 是你完美演出的一场戏 宁愿心碎哭泣 再狠狠忘记 你爱\nepoch 400, perplexity 1.178260, time 0.08 sec\n - 分开 有三去不过 有什么习地怀箱的你 J等y 开ho渡我有惯有 爱因的回过开事 我说么你让你知道 我静开\n - 不分开期 然后将过去 慢慢温习 让我爱上你 那场悲剧 是你完美演出的一场戏 宁愿心碎哭泣 再狠狠忘记 你爱\nepoch 450, perplexity 1.169131, time 0.09 sec\n - 分开 有直去停教 还窝它习留的 为什么我女朋友场外加油 你却还让我出糗 从小睡迷濡目怎么找也找 几和心世\n - 不分开吗 我叫你爸 你打我妈 这样对吗干嘛这样 何必让酒牵鼻子走 瞎 说一灌口丛光 腿教堂到著不 再多 篮\nepoch 500, perplexity 1.206826, time 0.09 sec\n - 分开 有直在什教 你有三美天 三朵在角落 不爽就反 全小村外屋 白色蜡烛 温暖了空屋 白色蜡烛 温暖了空\n - 不分开想 我不能再想 我不 我不 我不能再想你 爱情会依 你已的听不能 静哼哈兮 快使用双截棍 哼哼哈兮 \nepoch 550, perplexity 1.576076, time 0.09 sec\n - 分开 在什么 教给背武三代白墙黑瓦的淡淡的忧伤 消失的 旧时光 一九四三 回头看 的片段 有一些风慢 老\n - 不分开简简单纵可回走我 说物你有汉太不 一领林柔中当刚 想要就枪南棍山 学少林跟武当刚 你说就枪跟棍  有\nepoch 600, perplexity 2.003906, time 0.09 sec\n - 分开 一地在人留 它完它满牛 别样 从因 不战 是箭 是箭 回忆的回如果公 我给到的让模有 干什么 干什\n - 不分开扫 单叫 就去 征战 我爱  你怎很 看着球明 这漠事中怎么会长 古说我也睡不着  昨晚梦里写在那幽\nepoch 650, perplexity 180.660348, time 0.09 sec\n - 分开 停默著经会控一的牛步 默著风看满 开杰伦人一步 老金年美后地箱老呼下的话爱吸依没离 我对带看爱你 \n - 不分开期已一老暴呼 真有风惚简笑日 折去枝杨柳奇点  教枝的斑鸠 然都透你只经下土折一枝杨柳还伤 看小边笑\nepoch 700, perplexity 9162.619359, time 0.09 sec\n - 分开热娘会盘它假颗了 娘小爱人 泪个梦你 耍句你爸说怪梦旧片个动开有个人多温怪静人娘直真梦多著睡梦你回回\n - 不分开酒 是一泪色了 温坏爱人女泪都上苦爷耍么笑 说爱梦爸小都 你坏坏好好 女却梦小片上好爸小边上爸小事 \nepoch 750, perplexity 812.674705, time 0.09 sec\n - 分开 我 一 想 想 想 想 想 想 想 想 想 想 想 想 想 想 想 想 想 想 想 想 想 想 想\n - 不分开期 我有能 想 想 想 想 想 想 想 想 想 想 想 想 想 想 想 想 想 想 想 想 想 想 \nepoch 800, perplexity 234.872466, time 0.09 sec\n - 分开老家米 一子我 在不 我我想 你是一对 我不想来 不要你想 一 你 说不棍让 不著我的我想 我不要你\n - 不分开期  我 不起的爱我想 我是一对 不可我的让让 不要我的我想 泪么爱人 一 你 你来一不 我感想你 \nepoch 850, perplexity 63.203896, time 0.09 sec\n - 分开 深无到 你不要 爱果走 我想要这样 我不要 是你的 我 店我想 我说要再想你烦 我不要 你怎么 我\n - 不分开吗 我不能 爱女么 我想要这样 我不要 爱你的不口 让后再在你 你不多 连 你不定 是我听 你说不这\nepoch 900, perplexity 34.191721, time 0.09 sec\n - 分开 一直风停留风 用哼安兮的漫边 一切棍 别时上 一颗四老三 白天棍 有时上 一颗四 什么都动的片边 \n - 不分开想住单不 我不能再不 我不能再想 我不能 想想再想太 我对要这样 我不能再想 我不能 想想再 你不要\nepoch 950, perplexity 25.573439, time 0.09 sec\n - 分开 沙每了 娘什么 一颗好 三直了 三颗两 三颗我 说你的让我面红的可爱女人 想要的让我心狂的可爱女人\n - 不分开扫 我不能有生你 不知不觉 我已 这想你 不知再觉 你怎经口 你不会 爱你的我有我有 你想啊 你你眼\nepoch 1000, perplexity 12.738527, time 0.09 sec\n - 分开我 别 从 在不再 爱在我 我想要 你怎么 我 这 你怎么 我 我 你和这 我 我 你和你 你 我 \n - 不分开吗 我叫开 你怎我 你和我 陪你的事我 你的完 在人的 装 时 什么我 别子却 旧什了 我 想 你怎\nepoch 1050, perplexity 9.388362, time 0.09 sec\n - 分开球 我 在我胸 睡 银颗寄 我 我 你和球 我 我 你 我 我 我 你和你 我 我 你怎么 我想这 \n - 不分开简 我叫在我想 我不能再想 我不要再想 我不能再想 我不要再想 我不能再想 我不要再想 我不能再想 \nepoch 1100, perplexity 6.110454, time 0.09 sec\n - 分开  一什么 娘子有人在江南 一片棍 娘什么 我满了任督 在不懂 融梭有用记 还颗一斗 娘子村空 在人\n - 不分开期 我后开不想 我不定再想 我不能再想 我不能再想 我不能再想 我不能再想 我不能再想 我不能再想 \nepoch 1150, perplexity 5.278320, time 0.09 sec\n - 分开  我却在里里 我不往 爱你的没爱你我想妈 我说想这你 我不能再想 我不能再想 我不能再想 我不能再\n - 不分开期 我叫你 爱说你 一直球 旧什么 我爱一定暴剧乡悲的角度 你的完美主义的响空 停无第 瞎在我抬起头\nepoch 1200, perplexity 4.816100, time 0.09 sec\n - 分开 你说手有 你对我有别你的美空 停无第 不果我 爱你我的爸画面 我叫就这样牵眼 让我去要和场你 说要\n - 不分开吗 我叫我 爱你我 说你 我想很这样 别不你 说不要篮 我想女声了 我不能事想 我不往事不 我不往事\nepoch 1250, perplexity 4.486941, time 0.09 sec\n - 分开  快什么口 一天盘 别皮堂囱阳咒谁都的门 它在我以 我有多空熬向 我想 这样你知不我 别散去红球 \n - 不分开吗 我叫你 爱情我的脚快就像龙卷没著你 不要就多 我想著努宠我 又场寄美医药的事 随时准备了背默默许\nepoch 1300, perplexity 4.309390, time 0.09 sec\n - 分开  什么依有口有她 我小 我不 我不 我不能再想你 不知不觉够我 选这样觉队我 不能 你想很久了吧?\n - 不分开简 我不能再想 我不能再想 我不能再想 我不能再想 我不能再想 我不能再想 我不能再想 我不能再想 \nepoch 1350, perplexity 6.552071, time 0.09 sec\n - 分开 爱静许 别在于 一点四步 习有人中重始会风 别原再危它比谁 双截棍 干什么 娘什么 干什么 干什么\n - 不分开简简我有没你的泪笑 我想 我不 我不能 爱情走的太快 还有你以 再小完口 为不了 手在烟 一九四步 \nepoch 1400, perplexity 4.424523, time 0.10 sec\n - 分开 一子的老斑鸠两  草有里 最始默始发颗  哼什么 娘什么 干什么 干什么颗三颗四颗 爱怪我也轻不会\n - 不分开期 单后开过去 慢慢布美 让我感上你就那 不要 你已经考倒 我想想 有你的久 什么下 说说 娘子她对\nepoch 1450, perplexity 27.720286, time 0.09 sec\n - 分开 每学每看 娘我的外婆每默 我都在你里手堡我 别物的 干给走 三步四 三直用河 沙回忆 一片的风 连\n - 不分开 你果这人在一片悲 语是用双安 我马无人的证据早银题老的窝 平袋上回 让我感动 你怎么 连透让 装步\nepoch 1500, perplexity 152.135700, time 0.08 sec\n - 分开 全只已 连不能 这来么 有你却在人 我爱的在没上 用真 却不中你 你说在人不 我满动 不子你 说么\n - 不分开 你这一场 白血真风的了人 我连的在没上 用真 不果 我爱你的白我面到有些下 然真棍 别子躺 在满底\nepoch 1550, perplexity 210.658559, time 0.09 sec\n - 分开的手味 一场两 娘 一阵的有因 我 我怕道起过 我 你的里 一阵的可斑 我 我的耍你想 我 我的世起\n - 不分开 活 不懂我面想 我一了 我疯无 我想要 我知你 我想要 我一定 我想要 我想要 我想再 我想要 我\nepoch 1600, perplexity 142.980991, time 0.09 sec\n - 分开 心步 娘成带你我听带的星 我的带风打 我将带你的一个 我的泪人 对颗的让我 一著的我 说后我遇著你\n - 不分开恼微 静人么 我的泪 经 我想带你说 我想你 我的你 我的泪 经后我的泪你打 我不能你说 我的泪 静\nepoch 1650, perplexity 131.128895, time 0.09 sec\n - 分开抱 帅 说 说 说 说 你想到 说 说 说 说 说 你想到 说 说 你想到 说 说 你 说 你想到 \n - 不分开嘴活檐不 快 快 说 说 你想到 说 说 说 说 说 说 说 你想你 说 说 说 说 说 说 说 说\nepoch 1700, perplexity 204.411012, time 0.09 sec\n - 分开 深 我 已 我 想 想 我 想 我 想 我 想 我 想 想 我 我 想 我 想 想 我 我 想 我\n - 不分开吗 我 我 想 我 说 我 我 想 我 说 我 我 想 我 想 我 说 想 我 想 我 想 我 说 \nepoch 1750, perplexity 117.833888, time 0.09 sec\n - 分开 白 银 有 我 你 有 我 你 有 有 你 你 有 有 有 我 是 有 用 有 不 有 你 说 我\n - 不分开家 相 是 有 在 你 说 你 你 有 你 你 有 在 有 我 是 你 你 是 你 我 说 你 是 \nepoch 1800, perplexity 130.723542, time 0.09 sec\n - 分开 怎 的 爱 我 坏 你 你 你 你 你 你 你 你 你 你 你 你 你 你 你 你 你 你 你 你\n - 不分开简 我 你 你 坏 你 你 你 你 你 你 你 你 你 你 你 你 你 你 你 你 你 你 你 你 \nepoch 1850, perplexity 108.600772, time 0.09 sec\n - 分开 干风的客斑鸠的只子 在人子在子的黑 我给那的可爱女 我怕的让我疯狂的可爱女 我怕的让我疯狂的可爱女\n - 不分开扫 我想那你已不着 我想要你后 我不能不能 我不能不想 我不能不想 我不能不想 我不能不想 我不能不\nepoch 1900, perplexity 162.646627, time 0.09 sec\n - 分开的我妈 再坏星 我怎你 你却经 我 你打不 我疯你 我跟你 你却你 你却经 我 你打不 我疯你 我跟\n - 不分开吗 我想 你却你 我不能 我疯能 我疯要 我 你打不 我疯你 我跟你 我跟开 我跟开 我跟开 我跟开\nepoch 1950, perplexity 112.396298, time 0.09 sec\n - 分开 别不再 你坏么的你 我知 你怎么我不多再 又爱在美抽默堡 透么兮 旧给道这 我不能 生不懂 我想要\n - 不分开扫 我不要 你开久 我想要的可爱模 我想要的可爱模 我马要你 别小不觉 我不躲觉 我单攻我想动的我 \nepoch 2000, perplexity 108.876909, time 0.09 sec\n - 分开 快亮的 如 我 一定我 说 我 说 我 一定心 我 一定可 我 一定我 说 我 说 我 一定心 我\n - 不分开扫 连古的让我疯狂 可 在 我 一定我 说 我 一定心 我 一定可 我 一定棍 我 还 我 一定心 \nepoch 2050, perplexity 137.934349, time 0.09 sec\n - 分开 娘不休 爱你的让爱要你的让我不要有汉 我想要这可爱 我想跟你想要 我想要这样二 我想跟 爱要你 有\n - 不分开想人 想说要你想 我想要这可二 我想跟 爱要你 有子在句让不能的让我不要有 这果跟的让我不要有汉 我\nepoch 2100, perplexity 116.534089, time 0.09 sec\n - 分开的 爱 不 你 你 你 你 你 你 你 你 你 你 你 你 你 你 你 你 你 你 你 你 你 你 \n - 不分开吗亚 想 不 你 你 你 你 你 你 你 你 你 你 你 你 你 你 你 你 你 你 你 你 你 你\nepoch 2150, perplexity 153.500680, time 0.09 sec\n - 分开 像地安的我 我想要你不能 一怪个我已无你不攻 一场了我 我想要你不能再一场 我坏无你不 我给手你不\n - 不分开期 我想要你不能再 我想要你不能再 我想想你不睡再 我想想你不睡我 不个休 我已手你不你 一场个 哼\nepoch 2200, perplexity 113.135774, time 0.09 sec\n - 分开  又情我 我想要久我想狂再 爱爱有我不 我想要你想够 我想要这样 爱想要这样 我想揍想这么很 我想\n - 不分开期 从上开 我该想这想 我想能我想要很 我不要再想够很 我不要你想经很 我不要再想够很 我不要你想够\nepoch 2250, perplexity 243.791249, time 0.09 sec\n - 分开 我球狂要西面 我 我有能再不放的爱女 我不能这想 这不能 爱颗的让爱女女 我么你这不懂是双 我么么\n - 不分开不 我不声 我不要再不要再 一定的可爱女 我想的我想要的可爱女女 我想你这想爱人 我不能这不直的可爱\nepoch 2300, perplexity 316.888447, time 0.09 sec\n - 分开狂的直可女 我想你你 我已的让我疯你的一个人人 我想你有你 我想你的让我疯你的可爱女人 我想你有你 \n - 不分开有 我以你的可爱的让我疯你的爱爱女 我想你 你爱你有你的你的让爱人 我想要再我疯你的可爱女 我想要再\nepoch 2350, perplexity 217.680798, time 0.09 sec\n - 分开 我 我 我 我 我 我 我 我 我 你 我 我 我 我 我 我 我 我 我 我 我 我 我 我 我\n - 不分开扫把我的泪不 我 我 一 我 我 我 我 我 我 我 我 我 我 我 我 我 我 我 我 我 我 我\nepoch 2400, perplexity 240.616095, time 0.09 sec\n - 分开 我爸我不多 你说么 你说么我妈 我不么你想 我说么我的 我不么这样 我说么你的我爱 我不要再想 我\n - 不分开多 陪上你 我想要你爱女我 你么你这样我的 我不么 我怎么你的我的让我疯狂的可女女 我想么你想这样 \nepoch 2450, perplexity 113.673277, time 0.09 sec\n - 分开  别想 你不么 我不要你已的让我面 你子在这样 我不儿你么 我不经你的溪么 我不儿你么 我不经你的\n - 不分开驳 我不你不 我想不你的我爱狂到一切走 我不经你么 我不儿你么 我不么你么 我不经你的溪么 我不儿你\nepoch 2500, perplexity 207.877233, time 0.09 sec\n - 分开的我 想有我的忧爱我 我想不再 你不再 我不要有著 我不能有 我想完你 你不能 我知的让爱女 我想完\n - 不分开不 我不你你的肩我 我不能的我 我不完的爱我面 我不能的让我女 我想不再 没知的我 我的完美 我知哈\n"
    }
   ],
   "source": [
    "train_and_predict_rnn(rnn, get_params, init_rnn_state, num_hiddens,\n",
    "                      vocab_size, device, corpus_indices, idx_to_char,\n",
    "                      char_to_idx, True, num_epochs, num_steps, lr,\n",
    "                      clipping_theta, batch_size, pred_period, pred_len,\n",
    "                      prefixes)"
   ]
  },
  {
   "cell_type": "code",
   "execution_count": 21,
   "metadata": {},
   "outputs": [
    {
     "output_type": "stream",
     "name": "stdout",
     "text": "epoch 50, perplexity 63.156232, time 0.08 sec\n - 分开 我想要这不 我不要你想 我不要这想 我不要这想 我不要你想 我不要你想 我不要这想 我不要这想 我\n - 不分开 我想要你想 我不要的可爱女人 坏坏的让我疯狂的可爱女人 坏坏的让我疯狂的可爱女人 坏坏的让我疯狂的\nepoch 100, perplexity 7.311214, time 0.09 sec\n - 分开 一颗了 娘颗我 我有就这宣牵 你你 却又再考倒我 说散 你想很久了吧? 我不要的黑色在西 不要我说\n - 不分开步妈会 一直线 分手的颗我语狂的可爱女人 坏坏的让我疯狂的可爱女人 坏坏的让我疯狂的可爱女人 坏坏的\nepoch 150, perplexity 2.062818, time 0.09 sec\n - 分开 让候我 谁有开枪我 开不和的手有 让我到回忆了 瞎想都 我想你 一九就的手说 想真 却又再考倒我 \n - 不分开觉 你已经离开我 不知不觉 我跟了这节奏 后知后觉 又过了一个秋 后知后觉 我该好好生活 我该好好生\nepoch 200, perplexity 1.309920, time 0.09 sec\n - 分开 你候我 谁透神枪的我不想我一泪拆 牵托 一场盯酒 戒指伦 干沉我 印地安的传说 还真在 瞎透了 什\n - 不分开觉 你已经离开我 不知不觉 我跟了这节奏 后知后觉 又过了双截棍 风生哈兮 是使用双截棍 哼哼哈兮 \nepoch 250, perplexity 1.146958, time 0.08 sec\n - 分开 你候啊 你怎么打我手 你说啊 是不是你不想活 说你怎么面对我 甩开球我满腔的怒火 我想揍你已经很久\n - 不分开觉 你已经离开我 不知不觉 我跟了这节奏 后知后觉 又过了一个秋 后知后觉 我该好好生活 我该好好生\nepoch 300, perplexity 1.115363, time 0.08 sec\n - 分开 你候 这不着 后什么 我想大的手二 像 在你忆直棒着 在这样的生活 我爱你 你爱上 我想开声宣布 \n - 不分开觉 你已经离开我 不知不觉 我跟了这节奏 后知后觉 又过了一个秋 后知后觉 我该好好生活 我该好好生\nepoch 350, perplexity 1.121679, time 0.08 sec\n - 分开 你候的黑猫  没它你在不有 已习我有多你是一场悲剧 我想我这辈子注定一个人演戏 最后再一个人慢慢的\n - 不分开觉 你已经离开我 不知不觉 我跟了这节奏 后知后觉 又过了一个秋 后知后觉 我该好好生活 我该好好生\nepoch 400, perplexity 1.151839, time 0.09 sec\n - 分开 我爱要再生瘦 天着许不安 我不过我不证 景色入秋 漫天黄沙凉过 塞北的客栈人多 牧草有没有 我马儿\n - 不分开剧 你已经离开我 不知不觉 我跟了这节奏 后知后觉 又过了一 迷迷蒙蒙 你给不从 我不再 连不句珍重\nepoch 450, perplexity 1.192752, time 0.09 sec\n - 分开 让候的美怎 我一定再些 我不能再想 你不要再想 我不能再想 我不 我不 我不要再想你 爱情我 想你\n - 不分开觉 你已经离开我 不知不觉 我跟了这节奏 后知后觉 又过了一个秋 后知后觉 我该好好生活 我该好好生\nepoch 500, perplexity 1.596070, time 0.09 sec\n - 分开 一点她 在时吐那 停么转动 你切出空 偷要出空 心是心容 象人的梦 全面放纵 恨自己痛 怎么沟痛 \n - 不分开觉家的让  怎有我 城子我进的不真 我说店拆已你来出 安些我都做得到 但的个人感义风 该要去河南嵩 \nepoch 550, perplexity 592.827198, time 0.09 sec\n - 分开默只家愿 我 你知你看著两人妈人 没后你知我想我在你个著 一个我不著 我想你在一个我 没想说开我 你\n - 不分开出 你不了 我以著 一个我以著是一 我想你知没个我 没想说开我 你想一起我想我不可不一 我想你知说个\nepoch 600, perplexity 52.249829, time 0.09 sec\n - 分开 你来的没有你眼的爱力 原啦一壶 动你在外前溪边也卷 老 在没有 一颗两 有果了 干颗了 它一了 干\n - 不分开觉 你是 这 快小了 一步事 停一了 我该么 说在么 我给了 说在段 有颗了 干什么 一颗四步截 我\nepoch 650, perplexity 18.434684, time 0.09 sec\n - 分开 你已的没爱你 想都着是落不的老发椅杨原中 娘过方 它一会 干果我 甩不了动球 我 再散是 娘什么 \n - 不分开觉 你已经这不活 景下入秋护 有穿都有有 你一定里柳 你已的美猫 你已一里落 三著一步走 后子的美猫\nepoch 700, perplexity 11.097766, time 0.09 sec\n - 分开 我已无我一个拆封 誓些载沉牵你去的望 从化的雨乐 银后了风武 我不能事些 我不知再想 我不要再想 \n - 不分开觉 你在经离著我 说这球不多 这样都没有 我不要再想 我不能再不 我不要再想 我不要再想 我不要这样\nepoch 750, perplexity 7.182846, time 0.08 sec\n - 分开 我已的我 你这的我发粥 我该心头 我有多好熬 快话就用不 你不知到力 你在那会说 你不想事些 不爽\n - 不分开觉 你已经离不活 景知不觉 我跟一定节奏 干北么怯池我 不知不觉队友 手子几兮 快使用双截棍 哼者哈\nepoch 800, perplexity 5.946545, time 0.09 sec\n - 分开 我心的小 你后的回发粥 配北我遇见黑你的回活 问和心 干时默 一九四三三 老着我 有不了 我想就这\n - 不分开觉 你一经离生我 不知不觉 我跟了这节奏 后知不觉 我想好这节奏很久 别想躲着说每我妈妈都想以 你情\nepoch 850, perplexity 5.920399, time 0.09 sec\n - 分开 你已的话生  这样难些 你面得直落着 不知后觉演默 连亮却以 我想了这节奏 后知后觉 我该了这节奏\n - 不分开里 你已经离开我 不起线觉 我已经离节奏 后知后觉 快使用双截棍 哼哼哈兮 快使用双截棍 哼哼哈兮 \nepoch 900, perplexity 5.709021, time 0.10 sec\n - 分开 想候一 飞有我 印地去明 在人伦碗 硬有种同 恨自己痛 恨有的梦 恨时在空 没有的梦 恨时己空 恨\n - 不分开觉 你已经离 是有你到 说人了 痛墟烟轻重 是一鲜在一口有轻 猎念死了我边惯了一壶我 我的你以女离的\nepoch 950, perplexity 485.539157, time 0.09 sec\n - 分开 你的让画  手的风实不出 一情著口阳 天没心用着银着 你没有边着红着会实 一定着空 我知店重 一够\n - 不分开 说窝我一多好堡活有然熬 距我想以着 天以沙么着停 黄柔用天 让等著红 干使跳沙 一阵著红 干使跳休\nepoch 1000, perplexity 177.909895, time 0.08 sec\n - 分开 你的黑里 它两么 却什么你一你脸想动 别想一这重它颗心地两 呼么我真的场武 三壶寄头跟你 却过么我\n - 不分开柳 你不那很的默默默人切是开落么 后果上是旧我么多一让默 就人么我心离场一口 从下她著旧有武旧口两颗\nepoch 1050, perplexity 205.051874, time 0.09 sec\n - 分开的小爸封 难想就我 快这么 我怎么 这 有 在回么 我 有没有 有过的美里 让 你知了口笑 让 你 \n - 不分开柳忧就是 有 有什了 一颗有 哼过了 爱过的人爱 我 揍小了 快颗的让的 有天在 想你么 爱过我 有\nepoch 1100, perplexity 328.243441, time 0.09 sec\n - 分开 问知上处主一女人到 我想的我来出的我爱 你说的你来出 我要都爸多你来就多 我想能你不泪我 我去都我\n - 不分开生忧就的 爱上人 别不了纵看 我想都你爸你开我多的那可爱 我想都你多我想就想就想再 我想要再生多始默\nepoch 1150, perplexity 173.853515, time 0.09 sec\n - 分开 我已去 我感狂好的完边人 哼物四这截 篮没有这的让我去狂的可爱女么 我想要你不多这样么怎么 这想你\n - 不分开生后 我不要你怎么睡这多么的这开么 这想你开觉的这样 我不要你都要开 你这开这的直 我想要的让我么狂\nepoch 1200, perplexity 227.686652, time 0.09 sec\n - 分开  想坏么么 我该能的可 手有哈让你 恨场样 我想定这的 我 能的你妈的公样 我想要的你 我知定 不\n - 不分开 后能的风 我妈定 你是人 说怪了 我妈定 不 我知见 相果人 别么么 我给定这的 我 坏的你妈不 \nepoch 1250, perplexity 314.776375, time 0.09 sec\n - 分开 不的可有样河 我给你 你不能 我该能来我 泪不可 我该能场我 泪子你 你知能 我该能起我 泪使可 \n - 不分开 后知有你停 我知能起我 泪水可 让在我 一片我 泪子你 你知一起我 泪不好 我该能场我 泪子你 你\nepoch 1300, perplexity 191.467531, time 0.09 sec\n - 分开 你的让我 我 说你我 你 我想要 爱 我 你 我想要 我 我 我 说 我 我 我 我 却这我 想 \n - 不分开生说 我想我 想你的 我 却 我想要 我 我 我 却这我 你 我想的 我 我 我已的让我 我想想 我\nepoch 1350, perplexity 325.465067, time 0.09 sec\n - 分开 后和了 爱檐女人什枝四 什么么我爱狂的可爱女人 坏么么 我想你这样 是过的客爱女人 什么么 我想到\n - 不分开觉和当双已枝怎 我给的黑爱女人手坏的可 在人怎么怎 是不么 我疯在这爱 我不的这爱女人 什么么我疯狂\nepoch 1400, perplexity 246.521941, time 0.08 sec\n - 分开  阳来外 娘子了沙见 白使完再 我爱就让烦 我妈就这可 我妈再失是 我妈再的可 人手就的可 人手在\n - 不分开 你还那的生棍 练念的让 你使了再 是娘么 我念两空前 我妈就这可 我妈再不可 我妈再的可 人手就的\nepoch 1450, perplexity 315.226500, time 0.08 sec\n - 分开 不知了 不要的可爱 我 你 在 我 我 我 我有你 我 你 我 我 我 我 我有你 我 我有你 我\n - 不分开让牵的我想要样 我 再有后 我 我有你 我 我 你 我 我 我有你 我 你 我 我 我 我 我 我有\nepoch 1500, perplexity 868.616358, time 0.08 sec\n - 分开 我知 不发么有不着 唱是来 干在在没三满打河知和柔念 我来狂在生始杨柳开着 别说开的可女西没地 我\n - 不分开满牵四没经着女河满开空热着走著护我的可我前狂的可空面女在生过两么开着活 还你的让生眼双只开我想直的可\nepoch 1550, perplexity 375.463590, time 0.09 sec\n - 分开  在神的太力感 想和你的让  想有 一什 我想让的片写 哼有它 我想多一力 是有都双 让成 有给话\n - 不分开 在人 让满感动的可写女人元的直面 不有形  说我 一小  想每的片面 哼给它练 说 漂道一  说我\nepoch 1600, perplexity 1209.731280, time 0.09 sec\n - 分开  它的让 说发我 我不我 你发抖觉过 这 没说说一 你是 没 说过开简 你 在天我 你的我 从 一\n - 不分开不 我你知你的汉写 然但进美一过  谁在的 不过会  说 不生我 你说是  地说的泪   没 我 你\nepoch 1650, perplexity 1649.706698, time 0.09 sec\n - 分开夕在就 是在么中老瓣瓣海海场诗诗 从说在对不人的可爱人当老瓣瓣海海场受受栈 说在在人旧么默 爱啦个老\n - 不分开柳边的让的人个老老瓣海盘力受受名对说在不 心小的人原人老老海海清抽受 从常常让有你的可的人原老瓣老海\nepoch 1700, perplexity 585.274194, time 0.09 sec\n - 分开  我                                               \n - 不分开让 心说                                              \nepoch 1750, perplexity 378.605636, time 0.09 sec\n - 分开  我说 可 快果的可  哼安么觉 别着的可  哼穿么觉 别怪的可  哼什么觉 别怪的可  哼什么觉\n - 不分开觉 我 是 爱 我有 快要啊的可  哼  篮 这跟 篮 这对  爱要的可 快果的 娘打 我  这 娘\nepoch 1800, perplexity 1468.914987, time 0.09 sec\n - 分开一问养堡的可爱么我的我我我我我我我我我我我我我我我我我我我我我我我我我我我我我我我我我我我我我我我我\n - 不分开柳怎么处可片我我疯我我我我我可我我我我我我我我我我我我我我我我我我我我我我我我我我我我我我我我我我我\nepoch 1850, perplexity 389.998918, time 0.10 sec\n - 分开的 我的让满星我不样我不要用我不人我不透我不透我不太我不知我不我的让我女我不人我不我的让我女我不人我\n - 不分开觉怎是处可是手我的让我不人我不知我不太我不我的让我的让我疯我面我我不我的让我的让我女我面人我疯口的让\nepoch 1900, perplexity 354.960232, time 0.08 sec\n - 分开球 一个你 你截在没不口 习原的让我疯狂在我的可爱 我不的可爱 你有的让 在没的美 快 在没在让 在\n - 不分开觉 她场可发感狂我感口 我不的口 让不 我面口 习子的让球 别 在场球看 在色的美爱 你不的牛爱 你\nepoch 1950, perplexity 1057.606604, time 0.09 sec\n - 分开  战个  想要了   哼不  坏  坏  坏  坏  坏  坏  坏  坏  坏  坏  坏  坏\n - 不分开觉 你 是 不  不  坏  坏  坏  坏  坏  坏  坏  坏  坏  坏  坏  坏  坏 \nepoch 2000, perplexity 365.701985, time 0.09 sec\n - 分开 一已心觉太笑我一定默什么我我不你我不你我不你我么你我么你我不你我不你我不你我不你我不你我不你我不你\n - 不分开觉你了让河你怎我的外不了让我疯狂的让我在人我不你我不你我不你我不你我不你我不你我不你我不你我不你我不\nepoch 2050, perplexity 487.371756, time 0.09 sec\n - 分开  说么到带已人你不 你子了人 别子了人 你子了人 你子了人 你子了人 你子了人 你子了人 你子了人\n - 不分开 我两了钟想要人 快子女人不 你子了人 别子了人 你子了人 你子了人 你子了人 你子了人 你子了人 \nepoch 2100, perplexity 327.663016, time 0.09 sec\n - 分开 我的 我想么的  想那步  我的让觉 我 让 就开的让 女果事双截狂步那 爱想人节 我想那 可言 \n - 不分开觉 除场经口豆狂 那 就里的让 那  我想到觉  想要让步 我 到场 我想那让 想要的让女 让 想人\nepoch 2150, perplexity 259.196322, time 0.10 sec\n - 分开 我已  爱在 一爱 一个 一女 一 一 一子 让 你 一颗 可爱 一 心 一人的让爱 你想 一着 \n - 不分开觉 我 习子方让爱写 一爱 你 你有一 一子 一个 一  一  一  一 你 心 一 一人的让爱 一\nepoch 2200, perplexity 508.786442, time 0.09 sec\n - 分开  我说的可起我的定热的我的可的可的可的可的可的可的可的可的可的可的可的可的可的可的可的可的可的可的\n - 不分开觉 我已透你的可的一的我的可的可的可的可的可的可的可的可的可的可的可的可的可的可的可的可的可的可的可\nepoch 2250, perplexity 396.438790, time 0.09 sec\n - 分开  我说轻人难我的让爱女人一你不不你在你你想不能你不起你不你你不你你不你了你不了你不起你不你你一你你\n - 不分开觉 我已透爱开一一你不能你不你你不你你你不起你不你你不你你一你了你不起你不能你不你你不你你你不起你不\nepoch 2300, perplexity 574.260744, time 0.09 sec\n - 分开  当伤 是著我         我 我  我 我   我    我 我  我 我  我 我   我\n - 不分开觉 我已 我   我    我 我   我   我   我   我   我    我   我   我\nepoch 2350, perplexity 335.454034, time 0.09 sec\n - 分开 我的那  想要  坏  爱    再    狂    狂    你    狂    你    狂 \n - 不分开觉 是 是离  爱  一 我  再    再    狂    你    狂    你    狂   \nepoch 2400, perplexity 365.546166, time 0.09 sec\n - 分开你 当作 是 我 我不要 我想 我 我 一 我想要 我想 我想 我不定 我想的让  我想 我想 我不\n - 不分开觉 我 就成开 我想 我不 我不 我不定 我想 我 我不 我不 我不 我不 我不定 我想的让  我想\nepoch 2450, perplexity 544.650928, time 0.09 sec\n - 分开你 想带  娘穿 你实女  坏我  我 我  我 我  我  我想我 我 我  我  我 我  我 \n - 不分开觉 那 就属还动 我面女  坏我 我 我  我 我  我  我想我 我 我  我  我 我  我 我\nepoch 2500, perplexity 503.386037, time 0.09 sec\n - 分开  想带 可爱于我后就么我我不多我不多我不你我不你我不多我不多我不你我不你我不多我不我我想我都我想我\n - 不分开觉 我已经难爱女我心就小女我不在我不多我不多我不你我不多我不多我不多我不你我不你我不你我不多我不多我\n"
    }
   ],
   "source": [
    "train_and_predict_rnn(rnn, get_params, init_rnn_state, num_hiddens,\n",
    "                      vocab_size, device, corpus_indices, idx_to_char,\n",
    "                      char_to_idx, False, num_epochs, num_steps, lr,\n",
    "                      clipping_theta, batch_size, pred_period, pred_len,\n",
    "                      prefixes)"
   ]
  },
  {
   "cell_type": "code",
   "execution_count": null,
   "metadata": {
    "collapsed": true
   },
   "outputs": [],
   "source": []
  }
 ],
 "metadata": {
  "kernelspec": {
   "display_name": "Python 3.7.7 64-bit ('manim': conda)",
   "language": "python",
   "name": "python37764bitmanimconda3ee7db7d3a294d7389e94ca101ffd591"
  },
  "language_info": {
   "codemirror_mode": {
    "name": "ipython",
    "version": 3
   },
   "file_extension": ".py",
   "mimetype": "text/x-python",
   "name": "python",
   "nbconvert_exporter": "python",
   "pygments_lexer": "ipython3",
   "version": "3.7.7-final"
  }
 },
 "nbformat": 4,
 "nbformat_minor": 2
}